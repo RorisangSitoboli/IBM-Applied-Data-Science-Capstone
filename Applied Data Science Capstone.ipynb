{
 "cells": [
  {
   "cell_type": "markdown",
   "id": "crazy-occasion",
   "metadata": {},
   "source": [
    "<b>Applied data science capstone</b>\n",
    "- This notebook will be used for the IBM Data Science Capstone."
   ]
  },
  {
   "cell_type": "code",
   "execution_count": 2,
   "id": "missing-grain",
   "metadata": {},
   "outputs": [],
   "source": [
    "# Import libraries.\n",
    "import numpy as np\n",
    "import pandas as pd"
   ]
  },
  {
   "cell_type": "code",
   "execution_count": 3,
   "id": "quiet-savage",
   "metadata": {},
   "outputs": [],
   "source": [
    "my_string = 'Hello Capstone Project Course!'"
   ]
  },
  {
   "cell_type": "code",
   "execution_count": 4,
   "id": "bibliographic-prayer",
   "metadata": {},
   "outputs": [
    {
     "name": "stdout",
     "output_type": "stream",
     "text": [
      "Hello Capstone Project Course!\n"
     ]
    }
   ],
   "source": [
    "print(my_string)"
   ]
  },
  {
   "cell_type": "code",
   "execution_count": null,
   "id": "going-auditor",
   "metadata": {},
   "outputs": [],
   "source": []
  }
 ],
 "metadata": {
  "kernelspec": {
   "display_name": "Python 3",
   "language": "python",
   "name": "python3"
  },
  "language_info": {
   "codemirror_mode": {
    "name": "ipython",
    "version": 3
   },
   "file_extension": ".py",
   "mimetype": "text/x-python",
   "name": "python",
   "nbconvert_exporter": "python",
   "pygments_lexer": "ipython3",
   "version": "3.8.5"
  }
 },
 "nbformat": 4,
 "nbformat_minor": 5
}
